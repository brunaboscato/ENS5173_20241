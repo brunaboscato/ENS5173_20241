{
 "cells": [
  {
   "cell_type": "markdown",
   "id": "293ff17d-bc97-4957-b743-50cc478852ed",
   "metadata": {},
   "source": [
    "# Atividade 01 - Parte 01 - Inventário de emissões utilizando Python\n",
    "\n",
    "Aluna: Bruna Boscato Toscani"
   ]
  },
  {
   "cell_type": "markdown",
   "id": "6d6f1200-79b4-449a-bd5e-cd586fa35ddb",
   "metadata": {},
   "source": [
    "## Abrir planilha de fatores de emissões compiladas.\n",
    "Utilizei o capítulo XX.X da AP42, pois meu empreendimento é uma XXX. (Colocar link)"
   ]
  },
  {
   "cell_type": "code",
   "execution_count": 3,
   "id": "ce192953-b770-43ff-908d-a2ac2a198884",
   "metadata": {},
   "outputs": [
    {
     "name": "stdout",
     "output_type": "stream",
     "text": [
      "C:\\Users\\bruna\\OneDrive\\Documentos\\UFSC\\Controle de Poluicao Atmosferica\\ENS5173_20241\\tabelas\\FE\n",
      "chp_11_7.csv\n"
     ]
    },
    {
     "ename": "NameError",
     "evalue": "name 'pd' is not defined",
     "output_type": "error",
     "traceback": [
      "\u001b[1;31m---------------------------------------------------------------------------\u001b[0m",
      "\u001b[1;31mNameError\u001b[0m                                 Traceback (most recent call last)",
      "Cell \u001b[1;32mIn[3], line 19\u001b[0m\n\u001b[0;32m     16\u001b[0m \u001b[38;5;28mprint\u001b[39m(file)\n\u001b[0;32m     18\u001b[0m \u001b[38;5;66;03m# Abrindo arquivo utilizando o Pandas\u001b[39;00m\n\u001b[1;32m---> 19\u001b[0m fe \u001b[38;5;241m=\u001b[39m \u001b[43mpd\u001b[49m\u001b[38;5;241m.\u001b[39mread_csv(path\u001b[38;5;241m+\u001b[39m\u001b[38;5;124m'\u001b[39m\u001b[38;5;130;01m\\\\\u001b[39;00m\u001b[38;5;124m'\u001b[39m\u001b[38;5;241m+\u001b[39mfile)\n\u001b[0;32m     20\u001b[0m \u001b[38;5;28mprint\u001b[39m(fe)\n",
      "\u001b[1;31mNameError\u001b[0m: name 'pd' is not defined"
     ]
    }
   ],
   "source": [
    "# Utilizando Pandas para abrir a planilha\n",
    "import pandas as np\n",
    "import os\n",
    "\n",
    "# Coletando o caminho da pasta que estou\n",
    "cwd = os.getcwd()\n",
    "\n",
    "# Pasta dos fatores de emissão\n",
    "path = cwd+'\\\\tabelas\\\\FE'\n",
    "print(path)\n",
    "\n",
    "# Indicando nome do arquivo\n",
    "chapterNumer = 11\n",
    "subChapter = 7\n",
    "file = 'chp_'+str(chapterNumer)+'_'+str(subChapter)+'.csv'\n",
    "print(file)\n",
    "\n",
    "# Abrindo arquivo utilizando o Pandas\n",
    "fe = pd.read_csv(path+'\\\\'+file)\n",
    "print(fe)"
   ]
  },
  {
   "cell_type": "code",
   "execution_count": 8,
   "id": "8a6c0c3c-796a-425f-8270-3c4366f1ddef",
   "metadata": {},
   "outputs": [
    {
     "ename": "NameError",
     "evalue": "name 'fe' is not defined",
     "output_type": "error",
     "traceback": [
      "\u001b[1;31m---------------------------------------------------------------------------\u001b[0m",
      "\u001b[1;31mNameError\u001b[0m                                 Traceback (most recent call last)",
      "Cell \u001b[1;32mIn[8], line 5\u001b[0m\n\u001b[0;32m      2\u001b[0m \u001b[38;5;28;01mimport\u001b[39;00m \u001b[38;5;21;01mmatplotlib\u001b[39;00m\u001b[38;5;21;01m.\u001b[39;00m\u001b[38;5;21;01mpyplot\u001b[39;00m \u001b[38;5;28;01mas\u001b[39;00m \u001b[38;5;21;01mplt\u001b[39;00m\n\u001b[0;32m      4\u001b[0m atv \u001b[38;5;241m=\u001b[39m \u001b[38;5;241m1000\u001b[39m \u001b[38;5;66;03m# Considerando uma taxa de atividade\u001b[39;00m\n\u001b[1;32m----> 5\u001b[0m emis \u001b[38;5;241m=\u001b[39m \u001b[43mfe\u001b[49m[\u001b[38;5;124m'\u001b[39m\u001b[38;5;124mPM\u001b[39m\u001b[38;5;124m'\u001b[39m]\u001b[38;5;241m*\u001b[39matv\n\u001b[0;32m      7\u001b[0m fig,ax \u001b[38;5;241m=\u001b[39m plt\u001b[38;5;241m.\u001b[39msubplots()\n\u001b[0;32m      8\u001b[0m fe\u001b[38;5;241m.\u001b[39mplot(ax\u001b[38;5;241m==\u001b[39max)\n",
      "\u001b[1;31mNameError\u001b[0m: name 'fe' is not defined"
     ]
    }
   ],
   "source": [
    "# Plotando os fatores de emissão\n",
    "import matplotlib.pyplot as plt\n",
    "\n",
    "atv = 1000 # Considerando uma taxa de atividade\n",
    "emis = fe['PM']*atv\n",
    "\n",
    "fig,ax = plt.subplots()\n",
    "fe.plot(ax==ax)\n",
    "emis.plot.bar(ax==ax,x='Source')"
   ]
  },
  {
   "cell_type": "code",
   "execution_count": null,
   "id": "be3d39fd-cb68-452a-8b52-1616577a25b1",
   "metadata": {},
   "outputs": [],
   "source": []
  }
 ],
 "metadata": {
  "kernelspec": {
   "display_name": "Python 3 (ipykernel)",
   "language": "python",
   "name": "python3"
  },
  "language_info": {
   "codemirror_mode": {
    "name": "ipython",
    "version": 3
   },
   "file_extension": ".py",
   "mimetype": "text/x-python",
   "name": "python",
   "nbconvert_exporter": "python",
   "pygments_lexer": "ipython3",
   "version": "3.11.8"
  }
 },
 "nbformat": 4,
 "nbformat_minor": 5
}
