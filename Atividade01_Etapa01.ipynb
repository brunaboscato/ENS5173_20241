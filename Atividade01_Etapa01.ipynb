{
 "cells": [
  {
   "cell_type": "markdown",
   "id": "b4ddb77c-1586-4414-9a13-2de054bcb65d",
   "metadata": {},
   "source": [
    "# Aula 02 - Python"
   ]
  },
  {
   "cell_type": "markdown",
   "id": "dc07469b-1d9a-48e0-8e3a-b04d00ab20d4",
   "metadata": {},
   "source": [
    "## Dados Numéricos"
   ]
  },
  {
   "cell_type": "code",
   "execution_count": 37,
   "id": "18bb71c9-e084-4686-a098-97248e9da211",
   "metadata": {},
   "outputs": [
    {
     "name": "stdout",
     "output_type": "stream",
     "text": [
      " Valor de a = 1\n"
     ]
    },
    {
     "data": {
      "text/plain": [
       "int"
      ]
     },
     "execution_count": 37,
     "metadata": {},
     "output_type": "execute_result"
    }
   ],
   "source": [
    "# Variável inteira\n",
    "a = 1\n",
    "print(' Valor de a = '+str(a))\n",
    "type(a)"
   ]
  },
  {
   "cell_type": "markdown",
   "id": "728246fc-e571-4ac0-917e-6227acc0cf4b",
   "metadata": {},
   "source": [
    "A função print() é usada para exibir mensagens na saída padrão (normalmente, a tela do console).\\ A função type() é usada para obter o tipo de um objeto em Python. Ela retorna o tipo de dados do objeto passado como argumento. Isso é útil para verificar tipos de variáveis, argumentos de função e retorno de função."
   ]
  },
  {
   "cell_type": "code",
   "execution_count": 38,
   "id": "29d421d4-af76-4e57-97d2-bd9e58624e2f",
   "metadata": {},
   "outputs": [
    {
     "name": "stdout",
     "output_type": "stream",
     "text": [
      "1.0\n"
     ]
    },
    {
     "data": {
      "text/plain": [
       "float"
      ]
     },
     "execution_count": 38,
     "metadata": {},
     "output_type": "execute_result"
    }
   ],
   "source": [
    "# Variável dupla precisão\n",
    "b = 1.0\n",
    "print(b)\n",
    "type(b)"
   ]
  },
  {
   "cell_type": "code",
   "execution_count": 39,
   "id": "c73c2dca-dc18-4a0c-b830-37ee771aff1e",
   "metadata": {},
   "outputs": [
    {
     "name": "stdout",
     "output_type": "stream",
     "text": [
      "1\n"
     ]
    },
    {
     "data": {
      "text/plain": [
       "int"
      ]
     },
     "execution_count": 39,
     "metadata": {},
     "output_type": "execute_result"
    }
   ],
   "source": [
    "# Converter float para int\n",
    "c = int(b)\n",
    "print(c)\n",
    "type(c)"
   ]
  },
  {
   "cell_type": "code",
   "execution_count": 40,
   "id": "e9ca47b1-95e0-4b47-a01a-e0b69dbf3121",
   "metadata": {},
   "outputs": [
    {
     "name": "stdout",
     "output_type": "stream",
     "text": [
      "nan\n"
     ]
    },
    {
     "data": {
      "text/plain": [
       "float"
      ]
     },
     "execution_count": 40,
     "metadata": {},
     "output_type": "execute_result"
    }
   ],
   "source": [
    "# Declarando NaN\n",
    "import numpy as np\n",
    "d = np.nan\n",
    "print(d)\n",
    "type(d)"
   ]
  },
  {
   "cell_type": "markdown",
   "id": "24250880-14fb-4590-9627-f1baae92c12e",
   "metadata": {},
   "source": [
    "NaN é frequentemente usado para representar resultados inválidos ou indeterminados em operações aritméticas. "
   ]
  },
  {
   "cell_type": "code",
   "execution_count": 41,
   "id": "58ffda1a-505b-409c-9fa4-e18f9d2c20b1",
   "metadata": {},
   "outputs": [
    {
     "name": "stdout",
     "output_type": "stream",
     "text": [
      "nan\n",
      "nan\n",
      "1.0\n"
     ]
    }
   ],
   "source": [
    "# Operação com NaN\n",
    "e = d*1\n",
    "print(e)\n",
    "e = d+1\n",
    "print(e)\n",
    "e = np.nansum([d,1])\n",
    "print(e)"
   ]
  },
  {
   "cell_type": "code",
   "execution_count": 42,
   "id": "d4ccef11-1014-4afc-93a4-0da0619d851a",
   "metadata": {},
   "outputs": [
    {
     "name": "stdout",
     "output_type": "stream",
     "text": [
      "Bruna\n",
      "Boscato\n",
      "BrunaBoscato\n",
      "Bruna Boscato\n"
     ]
    }
   ],
   "source": [
    "# Declaração de variável de texto\n",
    "f = 'Bruna'\n",
    "g = \"Boscato\"\n",
    "print(f)\n",
    "print(g)\n",
    "print(f+g)\n",
    "print(f+' '+g)"
   ]
  },
  {
   "cell_type": "markdown",
   "id": "fc25c1ad-601c-4d1a-916f-6269d0b3888f",
   "metadata": {},
   "source": [
    "## Dados tipo bool - lógica"
   ]
  },
  {
   "cell_type": "code",
   "execution_count": 43,
   "id": "17985935-f550-49da-b504-b3677e15f5c1",
   "metadata": {},
   "outputs": [
    {
     "data": {
      "text/plain": [
       "True"
      ]
     },
     "execution_count": 43,
     "metadata": {},
     "output_type": "execute_result"
    }
   ],
   "source": [
    "a == 1 # perguntando se a é igual a 1"
   ]
  },
  {
   "cell_type": "markdown",
   "id": "9f3b63ff-e4b2-42c2-8fcc-f26b2efacf8f",
   "metadata": {},
   "source": [
    "Tipo de dado booleano é representado pelos valores \"True\" e \"False\", que são usados para expressar verdadeiro e falso."
   ]
  },
  {
   "cell_type": "code",
   "execution_count": 44,
   "id": "a68a0d6b-5e6f-409e-999a-374ccccedc27",
   "metadata": {},
   "outputs": [
    {
     "name": "stdout",
     "output_type": "stream",
     "text": [
      "True\n"
     ]
    },
    {
     "data": {
      "text/plain": [
       "bool"
      ]
     },
     "execution_count": 44,
     "metadata": {},
     "output_type": "execute_result"
    }
   ],
   "source": [
    "h = (a==1) # salvando o resultado de a==1 no h\n",
    "print(h)\n",
    "type(h)"
   ]
  },
  {
   "cell_type": "code",
   "execution_count": 45,
   "id": "36174890-9365-4641-962a-4232840f3778",
   "metadata": {},
   "outputs": [
    {
     "name": "stdout",
     "output_type": "stream",
     "text": [
      "False\n"
     ]
    },
    {
     "data": {
      "text/plain": [
       "bool"
      ]
     },
     "execution_count": 45,
     "metadata": {},
     "output_type": "execute_result"
    }
   ],
   "source": [
    "h = (a==2)\n",
    "print(h)\n",
    "type(h)"
   ]
  },
  {
   "cell_type": "code",
   "execution_count": 46,
   "id": "4efde4f2-8057-4161-b55b-5346555676ff",
   "metadata": {},
   "outputs": [
    {
     "data": {
      "text/plain": [
       "bool"
      ]
     },
     "execution_count": 46,
     "metadata": {},
     "output_type": "execute_result"
    }
   ],
   "source": [
    "i = True # salvando i como verdadeiro na forma booleana \n",
    "type(i)"
   ]
  },
  {
   "cell_type": "code",
   "execution_count": 47,
   "id": "89df060e-0e09-480b-afe6-5c79f02e44b6",
   "metadata": {},
   "outputs": [
    {
     "data": {
      "text/plain": [
       "str"
      ]
     },
     "execution_count": 47,
     "metadata": {},
     "output_type": "execute_result"
    }
   ],
   "source": [
    "ii = 'True' # salvando ii como uma string\n",
    "type(ii)"
   ]
  },
  {
   "cell_type": "markdown",
   "id": "bedc8abe-5756-42e9-9779-888f7b99ddfd",
   "metadata": {},
   "source": [
    "## Operação de comparação "
   ]
  },
  {
   "cell_type": "markdown",
   "id": "22966019-48f7-4cd1-83e5-d9bb836dbd51",
   "metadata": {},
   "source": [
    "Refere-se a uma expressão que compara dois valores para determinar sua relação."
   ]
  },
  {
   "cell_type": "code",
   "execution_count": 48,
   "id": "0bbc1bd4-5395-4209-94da-3b7433405ff4",
   "metadata": {},
   "outputs": [
    {
     "data": {
      "text/plain": [
       "True"
      ]
     },
     "execution_count": 48,
     "metadata": {},
     "output_type": "execute_result"
    }
   ],
   "source": [
    "# Operação ==\n",
    "a == b"
   ]
  },
  {
   "cell_type": "markdown",
   "id": "9b8d7e68-07ab-4b9c-a82e-b445212b47d7",
   "metadata": {},
   "source": [
    "Essas operações comparam valores e produzem um resultado booleano (verdadeiro ou falso) com base na relação entre eles."
   ]
  },
  {
   "cell_type": "code",
   "execution_count": 49,
   "id": "ab3ce901-5f52-4f99-b631-4eeffc242493",
   "metadata": {},
   "outputs": [
    {
     "data": {
      "text/plain": [
       "False"
      ]
     },
     "execution_count": 49,
     "metadata": {},
     "output_type": "execute_result"
    }
   ],
   "source": [
    "# Operação ><\n",
    "a>b"
   ]
  },
  {
   "cell_type": "code",
   "execution_count": 50,
   "id": "22041bb4-efcb-4b1b-be50-10e3516aade9",
   "metadata": {},
   "outputs": [
    {
     "data": {
      "text/plain": [
       "False"
      ]
     },
     "execution_count": 50,
     "metadata": {},
     "output_type": "execute_result"
    }
   ],
   "source": [
    "# Operação !=\n",
    "a!=b # se a é diferente de b"
   ]
  },
  {
   "cell_type": "code",
   "execution_count": 51,
   "id": "c4e53ae9-9c4a-43f0-be5c-c0d73862e3c1",
   "metadata": {},
   "outputs": [
    {
     "data": {
      "text/plain": [
       "True"
      ]
     },
     "execution_count": 51,
     "metadata": {},
     "output_type": "execute_result"
    }
   ],
   "source": [
    "# Operação >= ou <=\n",
    "a>=b"
   ]
  },
  {
   "cell_type": "markdown",
   "id": "e1f0451f-1946-4983-a0b7-4f36c53cfc72",
   "metadata": {},
   "source": [
    "## Operações matemáticas"
   ]
  },
  {
   "cell_type": "code",
   "execution_count": 52,
   "id": "27d7a971-e4ba-4108-aa26-342ebd87278b",
   "metadata": {},
   "outputs": [
    {
     "data": {
      "text/plain": [
       "2.0"
      ]
     },
     "execution_count": 52,
     "metadata": {},
     "output_type": "execute_result"
    }
   ],
   "source": [
    "# Soma\n",
    "a+b"
   ]
  },
  {
   "cell_type": "code",
   "execution_count": 53,
   "id": "537e47f0-16e7-4eac-a42a-b2d23878da59",
   "metadata": {},
   "outputs": [
    {
     "name": "stdout",
     "output_type": "stream",
     "text": [
      "2.0\n"
     ]
    }
   ],
   "source": [
    "# Soma e atribui valor\n",
    "ab = a+b\n",
    "print(ab)"
   ]
  },
  {
   "cell_type": "code",
   "execution_count": 54,
   "id": "869ff1ac-60a1-4c67-9fcc-777c833499fb",
   "metadata": {},
   "outputs": [
    {
     "name": "stdout",
     "output_type": "stream",
     "text": [
      "Não use l como nome de variável\n",
      "1.0\n"
     ]
    }
   ],
   "source": [
    "# Multiplicação\n",
    "l = a*b # Não use l como variável \n",
    "print(\"Não use l como nome de variável\")\n",
    "j = a*b\n",
    "print(j)"
   ]
  },
  {
   "cell_type": "code",
   "execution_count": 55,
   "id": "226a815d-6f75-4056-89a5-01bb7b10936d",
   "metadata": {},
   "outputs": [
    {
     "data": {
      "text/plain": [
       "1.0"
      ]
     },
     "execution_count": 55,
     "metadata": {},
     "output_type": "execute_result"
    }
   ],
   "source": [
    "# Divisão \n",
    "a/b"
   ]
  },
  {
   "cell_type": "code",
   "execution_count": 56,
   "id": "5f8c3c9d-e1af-4cb5-8d4e-a4fed648ac71",
   "metadata": {},
   "outputs": [
    {
     "data": {
      "text/plain": [
       "25"
      ]
     },
     "execution_count": 56,
     "metadata": {},
     "output_type": "execute_result"
    }
   ],
   "source": [
    "# Potência \n",
    "5**2"
   ]
  },
  {
   "cell_type": "code",
   "execution_count": 57,
   "id": "3b0f9554-ce10-498b-9473-b530733d802c",
   "metadata": {},
   "outputs": [
    {
     "data": {
      "text/plain": [
       "22026.465794806718"
      ]
     },
     "execution_count": 57,
     "metadata": {},
     "output_type": "execute_result"
    }
   ],
   "source": [
    "# Operações matemáticas com a biblioteca math\n",
    "import math # importanto a biblioteca\n",
    "math.exp(10)"
   ]
  },
  {
   "cell_type": "markdown",
   "id": "80daade0-a522-4283-8972-77900a91658f",
   "metadata": {},
   "source": [
    "\"math\" é uma biblioteca padrão que fornece funções e constantes matemáticas para operações mais avançadas do que aquelas disponíveis nos operadores aritméticos básicos, permitindo realizar uma ampla gama de operações matemáticas, desde funções trigonométricas até funções exponenciais e logarítmicas."
   ]
  },
  {
   "cell_type": "code",
   "execution_count": 58,
   "id": "4af7eeaf-a027-4ded-8ec8-5881e2258e56",
   "metadata": {},
   "outputs": [
    {
     "data": {
      "text/plain": [
       "1.0"
      ]
     },
     "execution_count": 58,
     "metadata": {},
     "output_type": "execute_result"
    }
   ],
   "source": [
    "math.exp(0) # usando a biblioteca math para calcular a exponencial de 0"
   ]
  },
  {
   "cell_type": "code",
   "execution_count": 59,
   "id": "19ffaa83-ec23-4f9d-842d-6dcb234f0cbc",
   "metadata": {},
   "outputs": [
    {
     "data": {
      "text/plain": [
       "2.718281828459045"
      ]
     },
     "execution_count": 59,
     "metadata": {},
     "output_type": "execute_result"
    }
   ],
   "source": [
    "math.exp(a) # usando a biblioteca math para calcular a exponencial de a"
   ]
  },
  {
   "cell_type": "code",
   "execution_count": 60,
   "id": "13aa0738-f143-4a16-8a44-45aca701ff8a",
   "metadata": {},
   "outputs": [
    {
     "data": {
      "text/plain": [
       "4.5399929762484854e-05"
      ]
     },
     "execution_count": 60,
     "metadata": {},
     "output_type": "execute_result"
    }
   ],
   "source": [
    "math.exp(-10) # usando a biblioteca math para calcular a exponencial de -10"
   ]
  },
  {
   "cell_type": "code",
   "execution_count": 61,
   "id": "f8d312d9-3d69-43ab-99cb-53002e401d8a",
   "metadata": {},
   "outputs": [
    {
     "data": {
      "text/plain": [
       "0.0"
      ]
     },
     "execution_count": 61,
     "metadata": {},
     "output_type": "execute_result"
    }
   ],
   "source": [
    "import math as mt # importando a biblioteca math e declarando como vou chama-la \n",
    "mt.log(c)"
   ]
  },
  {
   "cell_type": "code",
   "execution_count": 62,
   "id": "ad405888-d83c-4041-95de-0127789eb362",
   "metadata": {},
   "outputs": [
    {
     "data": {
      "text/plain": [
       "2.0"
      ]
     },
     "execution_count": 62,
     "metadata": {},
     "output_type": "execute_result"
    }
   ],
   "source": [
    "mt.log10(100) # usando a biblioteca math para calcular o logaritimo na base 10 de 100"
   ]
  },
  {
   "cell_type": "markdown",
   "id": "e578bd86-58d5-4136-9902-4f7e073c2e64",
   "metadata": {},
   "source": [
    "## Listas"
   ]
  },
  {
   "cell_type": "code",
   "execution_count": 63,
   "id": "c3fe4237-8aa7-481c-ba0f-8c842460a459",
   "metadata": {},
   "outputs": [
    {
     "name": "stdout",
     "output_type": "stream",
     "text": [
      "[1, 2, 3]\n"
     ]
    }
   ],
   "source": [
    "myFirstList = [1,2,3] # criando uma lista\n",
    "print(myFirstList)"
   ]
  },
  {
   "cell_type": "code",
   "execution_count": 64,
   "id": "a2c1c152-d400-4713-8035-95dd68dce2eb",
   "metadata": {},
   "outputs": [
    {
     "name": "stdout",
     "output_type": "stream",
     "text": [
      "1\n",
      "3\n"
     ]
    }
   ],
   "source": [
    "# Acessando valores da lista pelo index\n",
    "print(myFirstList[0])\n",
    "print(myFirstList[2])"
   ]
  },
  {
   "cell_type": "markdown",
   "id": "6205fa65-67cf-4c32-9700-a34821f29a76",
   "metadata": {},
   "source": [
    "Da para acessar os valores de uma lista através do índice usando a sintaxe de colchetes ([])."
   ]
  },
  {
   "cell_type": "markdown",
   "id": "ad51d3ad-3f4f-4ad5-96aa-04c7fa9d0de9",
   "metadata": {},
   "source": [
    "O índice é um número inteiro que representa a posição do elemento na lista. Lembrando de que o primeiro elemento da lista tem índice 0, o segundo tem índice 1 e assim por diante."
   ]
  },
  {
   "cell_type": "code",
   "execution_count": 65,
   "id": "f11a6b19-0da5-4211-b094-325197da74c5",
   "metadata": {},
   "outputs": [
    {
     "data": {
      "text/plain": [
       "False"
      ]
     },
     "execution_count": 65,
     "metadata": {},
     "output_type": "execute_result"
    }
   ],
   "source": [
    "myFirstList==a # perguntando se a myFirstList é igual ao a"
   ]
  },
  {
   "cell_type": "code",
   "execution_count": 66,
   "id": "15d58e0f-b9c4-4b50-b87e-7cc523619a6d",
   "metadata": {},
   "outputs": [
    {
     "data": {
      "text/plain": [
       "True"
      ]
     },
     "execution_count": 66,
     "metadata": {},
     "output_type": "execute_result"
    }
   ],
   "source": [
    "myFirstList[0]==a # perguntando se o primeiro valor de myFirstList é igual ao a"
   ]
  },
  {
   "cell_type": "code",
   "execution_count": 67,
   "id": "5991517c-525b-44c3-b130-d37287456c5d",
   "metadata": {},
   "outputs": [
    {
     "name": "stdout",
     "output_type": "stream",
     "text": [
      "[1, 1, 'c']\n"
     ]
    }
   ],
   "source": [
    "mySecList = [1,a,'c'] # fazendo a SecList com o primeiro número igual a 1, o segundo é referente ao a e o terceiro é uma string escrito c\n",
    "print(mySecList)"
   ]
  },
  {
   "cell_type": "code",
   "execution_count": 68,
   "id": "0d323b02-1c37-4bdc-9277-9637d2265d51",
   "metadata": {},
   "outputs": [
    {
     "data": {
      "text/plain": [
       "list"
      ]
     },
     "execution_count": 68,
     "metadata": {},
     "output_type": "execute_result"
    }
   ],
   "source": [
    "type(mySecList) # pedindo o tipo da lista"
   ]
  },
  {
   "cell_type": "code",
   "execution_count": 69,
   "id": "1d91940c-c4fe-4a04-9a6f-822545c8ae1f",
   "metadata": {},
   "outputs": [
    {
     "data": {
      "text/plain": [
       "str"
      ]
     },
     "execution_count": 69,
     "metadata": {},
     "output_type": "execute_result"
    }
   ],
   "source": [
    "type(mySecList[2]) # pedindo o tipo do terceiro valor da lista"
   ]
  },
  {
   "cell_type": "code",
   "execution_count": 70,
   "id": "7d7b961d-d997-4331-9a90-c7fe2ec4b0d9",
   "metadata": {},
   "outputs": [
    {
     "data": {
      "text/plain": [
       "int"
      ]
     },
     "execution_count": 70,
     "metadata": {},
     "output_type": "execute_result"
    }
   ],
   "source": [
    "type(mySecList[1]) # pedindo o tipo do segundo valor da lista"
   ]
  },
  {
   "cell_type": "markdown",
   "id": "ecd2750c-8248-4ebd-b359-4b12340e22af",
   "metadata": {},
   "source": [
    "## Caminhos = path"
   ]
  },
  {
   "cell_type": "markdown",
   "id": "8e971bd0-efdf-4641-ad08-81f45120d3c5",
   "metadata": {},
   "source": [
    "Fornece funções para trabalhar com caminhos de arquivo de forma independente de plataforma, permitindo manipular caminhos, como juntar partes de caminhos, verificar a existência de arquivos ou diretórios, obter o nome do arquivo ou diretório de um caminho e muito mais."
   ]
  },
  {
   "cell_type": "code",
   "execution_count": 71,
   "id": "f387f2e1-d211-4602-b315-1469e5854aa7",
   "metadata": {},
   "outputs": [
    {
     "name": "stdout",
     "output_type": "stream",
     "text": [
      "C:\\Users\\bruna\\OneDrive\\Documentos\\UFSC\\Controle de Poluicao Atmosferica\\ENS5173_20241\n"
     ]
    }
   ],
   "source": [
    "# Associando o caminho a variável path\n",
    "path = r\"C:\\Users\\bruna\\OneDrive\\Documentos\\UFSC\\Controle de Poluicao Atmosferica\\ENS5173_20241\"\n",
    "print(path)"
   ]
  },
  {
   "cell_type": "markdown",
   "id": "d29c596c-d138-4928-a749-aae2142506b1",
   "metadata": {},
   "source": [
    "\"r\" antes da string do caminho indica uma string de \"raw\", que trata os caracteres de escape, como barras invertidas, de forma literal. Isso é comum em caminhos de arquivos no Windows para evitar que os caracteres de escape sejam interpretados incorretamente."
   ]
  },
  {
   "cell_type": "code",
   "execution_count": 72,
   "id": "29b988a5-58c6-4755-8084-e2b2d400c67c",
   "metadata": {},
   "outputs": [
    {
     "name": "stdout",
     "output_type": "stream",
     "text": [
      "C:/Users/bruna/OneDrive/Documentos/UFSC/Controle de Poluicao Atmosferica/ENS5173_20241\n"
     ]
    }
   ],
   "source": [
    "path = \"C:/Users/bruna/OneDrive/Documentos/UFSC/Controle de Poluicao Atmosferica/ENS5173_20241\"\n",
    "print(path)"
   ]
  },
  {
   "cell_type": "code",
   "execution_count": 73,
   "id": "4c4b1937-d734-4d41-b2ea-dbd6fcc23f15",
   "metadata": {},
   "outputs": [
    {
     "data": {
      "text/plain": [
       "['.git',\n",
       " '.gitignore',\n",
       " '.ipynb_checkpoints',\n",
       " 'Atividade01_Etapa01.ipynb',\n",
       " 'Aula01.ipynb',\n",
       " 'README.md',\n",
       " 'scripts',\n",
       " 'venv']"
      ]
     },
     "execution_count": 73,
     "metadata": {},
     "output_type": "execute_result"
    }
   ],
   "source": [
    "import os\n",
    "# Listar arquivos na pasta\n",
    "os.listdir(path)"
   ]
  },
  {
   "cell_type": "code",
   "execution_count": 74,
   "id": "a5674e8c-5c3d-43cd-95f2-e8c7973921cb",
   "metadata": {},
   "outputs": [
    {
     "data": {
      "text/plain": [
       "'.git'"
      ]
     },
     "execution_count": 74,
     "metadata": {},
     "output_type": "execute_result"
    }
   ],
   "source": [
    "# Selecionar primeiro arquivo listado\n",
    "os.listdir(path)[0]"
   ]
  },
  {
   "cell_type": "code",
   "execution_count": 75,
   "id": "2d8cc6bd-9e8d-4f76-a9ee-fc7c5f7b594e",
   "metadata": {},
   "outputs": [
    {
     "data": {
      "text/plain": [
       "'C:/Users/bruna/OneDrive/Documentos/UFSC/Controle de Poluicao Atmosferica/ENS5173_20241/.git'"
      ]
     },
     "execution_count": 75,
     "metadata": {},
     "output_type": "execute_result"
    }
   ],
   "source": [
    "# Concatenando caminhos\n",
    "path+\"/\"+os.listdir(path)[0]"
   ]
  },
  {
   "cell_type": "markdown",
   "id": "6036cc33-336b-42d2-858c-33a0ea9adc94",
   "metadata": {},
   "source": [
    "Refere-se à operação de combinar partes de caminhos de diretórios em um único caminho completo."
   ]
  },
  {
   "cell_type": "code",
   "execution_count": 76,
   "id": "b4d9c16f-7d27-43c3-90f8-6e43dc928abe",
   "metadata": {},
   "outputs": [
    {
     "data": {
      "text/plain": [
       "['COMMIT_EDITMSG',\n",
       " 'config',\n",
       " 'description',\n",
       " 'FETCH_HEAD',\n",
       " 'HEAD',\n",
       " 'hooks',\n",
       " 'index',\n",
       " 'info',\n",
       " 'logs',\n",
       " 'objects',\n",
       " 'packed-refs',\n",
       " 'refs']"
      ]
     },
     "execution_count": 76,
     "metadata": {},
     "output_type": "execute_result"
    }
   ],
   "source": [
    "# Listando caminho concatenado\n",
    "os.listdir(path+\"/\"+os.listdir(path)[0])"
   ]
  },
  {
   "cell_type": "code",
   "execution_count": 77,
   "id": "d6356b15-be84-4a36-b3f5-e38f2e84a515",
   "metadata": {},
   "outputs": [
    {
     "data": {
      "text/plain": [
       "'C:\\\\Users\\\\bruna\\\\OneDrive\\\\Documentos\\\\UFSC\\\\Controle de Poluicao Atmosferica'"
      ]
     },
     "execution_count": 77,
     "metadata": {},
     "output_type": "execute_result"
    }
   ],
   "source": [
    "# Diretório que estou trabalhando\n",
    "os.getcwd()"
   ]
  },
  {
   "cell_type": "code",
   "execution_count": 78,
   "id": "aeb5160c-228e-4ea6-aa3d-a920fdd7de48",
   "metadata": {},
   "outputs": [],
   "source": [
    "# Mudo de diretório para o caminho\n",
    "os.chdir('C:\\\\Users\\\\bruna\\\\OneDrive\\\\Documentos\\\\UFSC\\\\Controle de Poluicao Atmosferica\\\\')"
   ]
  },
  {
   "cell_type": "code",
   "execution_count": 79,
   "id": "2c3dc212-e609-4d84-b697-4b23c0af1664",
   "metadata": {},
   "outputs": [
    {
     "data": {
      "text/plain": [
       "'C:\\\\Users\\\\bruna\\\\OneDrive\\\\Documentos\\\\UFSC\\\\Controle de Poluicao Atmosferica'"
      ]
     },
     "execution_count": 79,
     "metadata": {},
     "output_type": "execute_result"
    }
   ],
   "source": [
    "os.getcwd() "
   ]
  },
  {
   "cell_type": "code",
   "execution_count": 80,
   "id": "fb5c6789-b95d-493f-ac52-561a0b653a04",
   "metadata": {},
   "outputs": [
    {
     "name": "stdout",
     "output_type": "stream",
     "text": [
      "Diretório já existe\n"
     ]
    }
   ],
   "source": [
    "# Criando diretório\n",
    "new_path = os.getcwd()+'/test'\n",
    "\n",
    "if os.path.isdir(new_path):\n",
    "    print('Diretório já existe')\n",
    "else:\n",
    "    print('Criando diretório '+new_path)\n",
    "    os.mkdir(new_path)"
   ]
  },
  {
   "cell_type": "markdown",
   "id": "ee4f6c81-4fe9-401c-a80a-bcc4f80648d3",
   "metadata": {},
   "source": [
    "if (se)\\\n",
    "else (senão)"
   ]
  },
  {
   "cell_type": "code",
   "execution_count": 81,
   "id": "3b132e44-35ac-4d8d-b41f-a06e54dc0ee4",
   "metadata": {},
   "outputs": [
    {
     "name": "stdout",
     "output_type": "stream",
     "text": [
      "Diretório já existe\n"
     ]
    }
   ],
   "source": [
    "# Criando diretório\n",
    "new_path = os.getcwd()+'/test2'\n",
    "\n",
    "if os.path.isdir(new_path):  #verifica se a pasta existe\n",
    "    print('Diretório já existe')\n",
    "    # Criando arquivo de texto\n",
    "    with open(new_path+\"/copy.txt\", \"w\") as file:\n",
    "        file.write(\"You text goes here\")\n",
    "else:\n",
    "    print('Criando diretório '+new_path)\n",
    "    os.mkdir(new_path)\n",
    "    with open(new_path+\"/copy.txt\", \"w\") as file:\n",
    "        file.write(\"You text goes here\")\n",
    "    "
   ]
  },
  {
   "cell_type": "markdown",
   "id": "3de7fe1a-34b5-4e52-93b9-a43e4193c6b8",
   "metadata": {},
   "source": [
    "\"with\" é usada em conjunto com o gerenciamento de contexto para garantir que recursos sejam adequadamente liberados após o término de sua utilização, independentemente de ocorrerem exceções ou não."
   ]
  },
  {
   "cell_type": "markdown",
   "id": "0dff0832-c0de-4909-8fd1-8ffb3affaeee",
   "metadata": {},
   "source": [
    "## Numpy arrays e Pandas DataFrames"
   ]
  },
  {
   "cell_type": "markdown",
   "id": "91a2dc53-fa06-4866-aa31-470165c7306b",
   "metadata": {},
   "source": [
    "NumPy Arrays são ideais para computação numérica eficiente e manipulação de arrays multidimensionais, enquanto Pandas DataFrames são excelentes para análise de dados tabulares e manipulação de conjuntos de dados de forma conveniente e eficiente.\n",
    "Ambas as bibliotecas são amplamente utilizadas em ciência de dados, aprendizado de máquina, análise estatística e muitos outros campos relacionados ao processamento de dados em Python."
   ]
  },
  {
   "cell_type": "code",
   "execution_count": 82,
   "id": "299e5b0e-49c9-406d-bf3e-261c8a7a284b",
   "metadata": {},
   "outputs": [
    {
     "data": {
      "text/plain": [
       "numpy.ndarray"
      ]
     },
     "execution_count": 82,
     "metadata": {},
     "output_type": "execute_result"
    }
   ],
   "source": [
    "import numpy as np\n",
    "# criando uma variável numpy e declarando como vou chama-la\n",
    "n = np.array(0)\n",
    "type(n)"
   ]
  },
  {
   "cell_type": "code",
   "execution_count": 83,
   "id": "7454a1cb-c238-4471-886c-0e0b07ec8f02",
   "metadata": {},
   "outputs": [
    {
     "name": "stdout",
     "output_type": "stream",
     "text": [
      "[ 1  2  3 10 20 55]\n"
     ]
    }
   ],
   "source": [
    "# criando uma variável numpy a partir de uma lista\n",
    "myThirdList=[1,2,3,10,20,55]\n",
    "n = np.array(myThirdList)\n",
    "print(n)"
   ]
  },
  {
   "cell_type": "code",
   "execution_count": 84,
   "id": "c1a6a77c-3c99-4e15-b5bb-3ae7db7b4a05",
   "metadata": {},
   "outputs": [
    {
     "name": "stdout",
     "output_type": "stream",
     "text": [
      "[[7.87731051e-01 1.80830335e-01 1.43374384e-02 9.07198129e-01\n",
      "  7.88667250e-01 2.17386037e-01 8.60361285e-01 5.91291137e-01\n",
      "  8.84627814e-01 1.26575609e-01]\n",
      " [4.44979532e-01 8.37672965e-01 2.34947315e-01 5.70988723e-01\n",
      "  1.44180186e-01 5.49979212e-01 3.48051954e-01 6.21046832e-01\n",
      "  6.64770013e-01 2.70224275e-01]\n",
      " [8.46707973e-01 4.74252616e-01 1.18127004e-01 2.89056500e-01\n",
      "  5.07073873e-01 2.78355327e-01 1.32082267e-01 6.12588338e-01\n",
      "  3.18259471e-01 7.53130493e-01]\n",
      " [6.24515771e-01 7.11655863e-01 7.58556139e-01 4.37166181e-01\n",
      "  7.50883422e-01 9.21297381e-01 9.89340608e-01 3.16304992e-01\n",
      "  4.77942302e-02 3.57962866e-01]\n",
      " [8.84355401e-01 7.07136584e-01 4.45970803e-01 9.03420670e-01\n",
      "  8.88829524e-02 4.86376494e-01 4.60849163e-01 5.42077532e-01\n",
      "  4.02478714e-02 8.39763185e-01]\n",
      " [4.45528310e-01 8.54170972e-01 7.88365378e-01 5.47950372e-01\n",
      "  4.75104991e-02 8.01839845e-01 3.02552798e-01 8.19799261e-01\n",
      "  2.32594698e-01 6.84000037e-01]\n",
      " [4.88098314e-01 2.61679793e-01 7.58540474e-02 5.18832495e-01\n",
      "  7.97410364e-01 1.26472217e-01 9.47412269e-01 2.04543447e-01\n",
      "  7.56166775e-01 1.75084684e-01]\n",
      " [2.35023972e-01 3.26500290e-01 8.24137716e-01 1.54624638e-02\n",
      "  9.59493304e-02 8.89948594e-01 1.40035171e-01 6.42570314e-01\n",
      "  9.42586029e-01 1.02294272e-01]\n",
      " [7.14292164e-01 4.71147696e-01 5.50691603e-02 6.88233283e-01\n",
      "  2.45082539e-01 3.55607827e-01 5.95795385e-01 4.94438926e-02\n",
      "  6.41856761e-01 7.24479961e-01]\n",
      " [7.85255243e-02 1.03304153e-01 5.61977498e-01 1.55500779e-01\n",
      "  2.42242292e-01 7.48121960e-01 4.23965693e-04 9.28414484e-01\n",
      "  3.97780231e-01 4.82132101e-01]]\n",
      "(10, 10)\n"
     ]
    }
   ],
   "source": [
    "# criando uma matriz de 10x10 de números aleatórios entre 0 e 1\n",
    "n = np.random.rand(10,10)\n",
    "print(n)\n",
    "# dimensões da matriz\n",
    "print(n.shape)"
   ]
  },
  {
   "cell_type": "code",
   "execution_count": 85,
   "id": "15ced773-8d5f-466c-a3f8-494265f519b2",
   "metadata": {},
   "outputs": [
    {
     "data": {
      "text/plain": [
       "array([0.78773105, 0.18083033, 0.01433744, 0.90719813, 0.78866725,\n",
       "       0.21738604, 0.86036128, 0.59129114, 0.88462781, 0.12657561])"
      ]
     },
     "execution_count": 85,
     "metadata": {},
     "output_type": "execute_result"
    }
   ],
   "source": [
    "# acessando valores da matriz\n",
    "n[0,:]"
   ]
  },
  {
   "cell_type": "code",
   "execution_count": 86,
   "id": "e4a4beac-d23e-4770-9cd6-4fd3db35abc3",
   "metadata": {},
   "outputs": [
    {
     "data": {
      "text/plain": [
       "array([0.78773105, 0.44497953, 0.84670797, 0.62451577, 0.8843554 ,\n",
       "       0.44552831, 0.48809831, 0.23502397, 0.71429216, 0.07852552])"
      ]
     },
     "execution_count": 86,
     "metadata": {},
     "output_type": "execute_result"
    }
   ],
   "source": [
    "# primeiro número de todas as matrizes\n",
    "n[:,0]"
   ]
  },
  {
   "cell_type": "code",
   "execution_count": 87,
   "id": "fca45a83-64ff-499b-9304-7f5840e1d303",
   "metadata": {},
   "outputs": [
    {
     "data": {
      "text/plain": [
       "array([[0.18083033, 0.01433744, 0.90719813, 0.78866725],\n",
       "       [0.83767297, 0.23494732, 0.57098872, 0.14418019],\n",
       "       [0.47425262, 0.118127  , 0.2890565 , 0.50707387],\n",
       "       [0.71165586, 0.75855614, 0.43716618, 0.75088342],\n",
       "       [0.70713658, 0.4459708 , 0.90342067, 0.08888295],\n",
       "       [0.85417097, 0.78836538, 0.54795037, 0.0475105 ],\n",
       "       [0.26167979, 0.07585405, 0.5188325 , 0.79741036],\n",
       "       [0.32650029, 0.82413772, 0.01546246, 0.09594933],\n",
       "       [0.4711477 , 0.05506916, 0.68823328, 0.24508254],\n",
       "       [0.10330415, 0.5619775 , 0.15550078, 0.24224229]])"
      ]
     },
     "execution_count": 87,
     "metadata": {},
     "output_type": "execute_result"
    }
   ],
   "source": [
    "# pegando o segundo até o quinto valor de todas as matrizes\n",
    "n[:,1:5]"
   ]
  },
  {
   "cell_type": "code",
   "execution_count": 88,
   "id": "79963fc1-2bd4-46ac-9ece-f0524760a093",
   "metadata": {},
   "outputs": [
    {
     "data": {
      "text/plain": [
       "array([0.18083033, 0.01433744, 0.90719813, 0.78866725])"
      ]
     },
     "execution_count": 88,
     "metadata": {},
     "output_type": "execute_result"
    }
   ],
   "source": [
    "# pegando o segundo até o quinto valor da primeira matriz\n",
    "n[0,1:5]"
   ]
  },
  {
   "cell_type": "code",
   "execution_count": 89,
   "id": "52e36db3-52bf-4ed9-9606-9e2af42acf62",
   "metadata": {},
   "outputs": [
    {
     "data": {
      "text/plain": [
       "0.1265756086953178"
      ]
     },
     "execution_count": 89,
     "metadata": {},
     "output_type": "execute_result"
    }
   ],
   "source": [
    "# pegando o ultimo número da primeira matriz\n",
    "n[0,-1]"
   ]
  },
  {
   "cell_type": "code",
   "execution_count": 90,
   "id": "2b757780-07a6-468d-b429-17bbfcf9636a",
   "metadata": {},
   "outputs": [
    {
     "data": {
      "text/plain": [
       "array([0.78866725, 0.21738604, 0.86036128, 0.59129114, 0.88462781])"
      ]
     },
     "execution_count": 90,
     "metadata": {},
     "output_type": "execute_result"
    }
   ],
   "source": [
    "# pegando o quinto valor até o ultimo valor da primeira matriz\n",
    "n[0,4:-1]"
   ]
  },
  {
   "cell_type": "code",
   "execution_count": 91,
   "id": "60e8900a-1ddb-4ef4-bc29-2a02efa2c9b1",
   "metadata": {},
   "outputs": [
    {
     "data": {
      "text/plain": [
       "array([0.78866725, 0.21738604, 0.86036128, 0.59129114, 0.88462781,\n",
       "       0.12657561])"
      ]
     },
     "execution_count": 91,
     "metadata": {},
     "output_type": "execute_result"
    }
   ],
   "source": [
    "# pegando o quinto valor até o final da primeira matriz\n",
    "n[0,4:]"
   ]
  },
  {
   "cell_type": "code",
   "execution_count": 92,
   "id": "9faa43ba-c6c0-4492-8b2f-2efecb98a524",
   "metadata": {},
   "outputs": [
    {
     "name": "stdout",
     "output_type": "stream",
     "text": [
      "[[ 1.37083936 -0.10075815 -2.63544318  1.5120435   1.37202713  0.08335738\n",
      "   1.45903503  1.08399115  1.48684964 -0.45747754]\n",
      " [ 0.79971092  1.4323104   0.16104393  1.04905209 -0.32725356  1.01156311\n",
      "   0.55403439  1.13308913  1.20112377  0.3009349 ]\n",
      " [ 1.44303849  0.86342276 -0.52655701  0.3683048   0.93033933  0.33058109\n",
      "  -0.4148924   1.11937579  0.46454963  1.32592114]\n",
      " [ 1.13865922  1.26927709  1.33309944  0.78199603  1.32293304  1.52746551\n",
      "   1.5987213   0.45838954 -1.43141244  0.58211189]\n",
      " [ 1.48654165  1.26290647  0.80193612  1.50787094 -0.810997    0.88866564\n",
      "   0.83475343  0.99709167 -1.60326025  1.43480256]\n",
      " [ 0.80094343  1.45181401  1.37164429  1.00786735 -1.43736665  1.38859153\n",
      "   0.41393844  1.41074214  0.15098008  1.22964061]\n",
      " [ 0.89219948  0.26880423 -0.9695063   0.95326372  1.38305207 -0.45829471\n",
      "   1.55541697  0.02246304  1.32994459 -0.1330476 ]\n",
      " [ 0.16137015  0.49011347  1.41602028 -2.55990197 -0.73449712  1.49284634\n",
      "  -0.35642376  1.16715888  1.55030983 -0.67046368]\n",
      " [ 1.27297471  0.85685426 -1.28972751  1.23581049  0.20327768  0.57551115\n",
      "   1.09157993 -1.39747882  1.1660478   1.28713674]\n",
      " [-0.93489364 -0.66063979  1.03314444 -0.25166662  0.19162106  1.31924865\n",
      "  -6.15642011  1.53516091  0.6875823   0.87990078]]\n"
     ]
    }
   ],
   "source": [
    "an = np.log(n*5) # multipliquei todos os valores de n e fiz o logarítimo deles\n",
    "print(an)"
   ]
  },
  {
   "cell_type": "code",
   "execution_count": null,
   "id": "d389e4a9-472f-4043-b594-60443fa9c166",
   "metadata": {},
   "outputs": [],
   "source": []
  }
 ],
 "metadata": {
  "kernelspec": {
   "display_name": "Python 3 (ipykernel)",
   "language": "python",
   "name": "python3"
  },
  "language_info": {
   "codemirror_mode": {
    "name": "ipython",
    "version": 3
   },
   "file_extension": ".py",
   "mimetype": "text/x-python",
   "name": "python",
   "nbconvert_exporter": "python",
   "pygments_lexer": "ipython3",
   "version": "3.11.8"
  }
 },
 "nbformat": 4,
 "nbformat_minor": 5
}
