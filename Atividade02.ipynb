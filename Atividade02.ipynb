{
 "cells": [
  {
   "cell_type": "markdown",
   "id": "f43c94d3-21ec-455e-85db-0c9333f2c5ff",
   "metadata": {},
   "source": [
    "# Caracterização meteorológica da área de estudo\n",
    "\n",
    "Aluna: Bruna Boscato Toscani\n",
    "\n",
    "Nesta atividade caracterizaremos a meteorologia da área de estudo. Avaliaremos os seguintes pontos:\n",
    "\n",
    "1. Meteorologia de superfície\n",
    "2. Meteorologia upperair ou sondagem/perfil da atmosfera\n",
    "3. Superfície - Alberto, Razão de Bowen e Rugosidade"
   ]
  },
  {
   "cell_type": "markdown",
   "id": "8b9efb6c-5500-48c1-b392-6e44e51ff797",
   "metadata": {},
   "source": [
    "## Meteorologia de superfície\n",
    "Analizaremos os dados de metar (estação meteorológica em aeroportos). Os dados serão coletados na plataforma (LINK)\n",
    "Faça seu login e colete o dado para o período de 01/01/2023 a 01/01/2024\n",
    "Os dados estarão na pasta de inputs/meteoSuperficie com a nomeclatura metar.csv"
   ]
  },
  {
   "cell_type": "code",
   "execution_count": 1,
   "id": "a0074543-73a3-432b-9448-992e57b01a73",
   "metadata": {},
   "outputs": [
    {
     "name": "stdout",
     "output_type": "stream",
     "text": [
      "C:\\Users\\bruna\\OneDrive\\Documentos\\UFSC\\Controle de Poluicao Atmosferica\\ENS5173_20241\n"
     ]
    }
   ],
   "source": [
    "# Selecionar arquivo para análise \n",
    "import os\n",
    "\n",
    "# Pegando o caminho do diretório que estou\n",
    "rootPath = os.getcwd()\n",
    "print(rootPath)\n",
    "\n",
    "# Definindo o diretório ...\n",
    "metSuperficiePath = rootPath + '\\\\inputs\\\\meteoSuperficie'\n",
    "\n",
    "# Listando ...\n",
    "..."
   ]
  },
  {
   "cell_type": "code",
   "execution_count": 3,
   "id": "669c603e-f9cb-4048-8398-3679302bb68a",
   "metadata": {},
   "outputs": [
    {
     "ename": "NameError",
     "evalue": "name 'files' is not defined",
     "output_type": "error",
     "traceback": [
      "\u001b[1;31m---------------------------------------------------------------------------\u001b[0m",
      "\u001b[1;31mNameError\u001b[0m                                 Traceback (most recent call last)",
      "Cell \u001b[1;32mIn[3], line 6\u001b[0m\n\u001b[0;32m      4\u001b[0m \u001b[38;5;66;03m# Abrindo cada arquico dentro da pasta e acumulando em uma lista chamada de metSuperficie\u001b[39;00m\n\u001b[0;32m      5\u001b[0m metSuperficie\u001b[38;5;241m=\u001b[39m[]\n\u001b[1;32m----> 6\u001b[0m \u001b[38;5;28;01mfor\u001b[39;00m file \u001b[38;5;129;01min\u001b[39;00m \u001b[43mfiles\u001b[49m:\n\u001b[0;32m      7\u001b[0m     metSuperficie\u001b[38;5;241m.\u001b[39mappend(pd\u001b[38;5;241m.\u001b[39mread_csv(metSuperficiePath \u001b[38;5;241m+\u001b[39m \u001b[38;5;124m'\u001b[39m\u001b[38;5;130;01m\\\\\u001b[39;00m\u001b[38;5;124m'\u001b[39m \u001b[38;5;241m+\u001b[39m file))\n\u001b[0;32m      9\u001b[0m \u001b[38;5;66;03m# Convertendo metSuperficie para o DataFrame\u001b[39;00m\n",
      "\u001b[1;31mNameError\u001b[0m: name 'files' is not defined"
     ]
    }
   ],
   "source": [
    "# Abrindo os arquivos metar\n",
    "import pandas as pd\n",
    "\n",
    "# Abrindo cada arquico dentro da pasta e acumulando em uma lista chamada de metSuperficie\n",
    "metSuperficie=[]\n",
    "for file in files:\n",
    "    metSuperficie.append(pd.read_csv(metSuperficiePath + '\\\\' + file))\n",
    "\n",
    "# Convertendo metSuperficie para o DataFrame\n",
    "metSuperficie = pd.concat(metSuperficie)\n",
    "\n",
    "print(metSuperficie)\n",
    "print(type(metSuperficie))"
   ]
  },
  {
   "cell_type": "code",
   "execution_count": 6,
   "id": "f50253e4-5912-4b31-b05d-24eb4223a8c0",
   "metadata": {},
   "outputs": [
    {
     "ename": "TypeError",
     "evalue": "list indices must be integers or slices, not list",
     "output_type": "error",
     "traceback": [
      "\u001b[1;31m---------------------------------------------------------------------------\u001b[0m",
      "\u001b[1;31mTypeError\u001b[0m                                 Traceback (most recent call last)",
      "Cell \u001b[1;32mIn[6], line 3\u001b[0m\n\u001b[0;32m      1\u001b[0m \u001b[38;5;66;03m# Criar uma coluna com Datetime dos dados\u001b[39;00m\n\u001b[0;32m      2\u001b[0m \u001b[38;5;66;03m# Criar uma coluna de data e hora combinando as colunas separadas\u001b[39;00m\n\u001b[1;32m----> 3\u001b[0m metSuperficie[\u001b[38;5;124m'\u001b[39m\u001b[38;5;124mdatetime\u001b[39m\u001b[38;5;124m'\u001b[39m] \u001b[38;5;241m=\u001b[39m pd\u001b[38;5;241m.\u001b[39mto_datetime(\u001b[43mmetSuperficie\u001b[49m\u001b[43m[\u001b[49m\u001b[43m[\u001b[49m\u001b[38;5;124;43m'\u001b[39;49m\u001b[38;5;124;43myear\u001b[39;49m\u001b[38;5;124;43m'\u001b[39;49m\u001b[43m,\u001b[49m\u001b[43m \u001b[49m\u001b[38;5;124;43m'\u001b[39;49m\u001b[38;5;124;43mmonth\u001b[39;49m\u001b[38;5;124;43m'\u001b[39;49m\u001b[43m,\u001b[49m\u001b[43m \u001b[49m\u001b[38;5;124;43m'\u001b[39;49m\u001b[38;5;124;43mday\u001b[39;49m\u001b[38;5;124;43m'\u001b[39;49m\u001b[43m,\u001b[49m\u001b[43m \u001b[49m\u001b[38;5;124;43m'\u001b[39;49m\u001b[38;5;124;43mhour\u001b[39;49m\u001b[38;5;124;43m'\u001b[39;49m\u001b[43m]\u001b[49m\u001b[43m]\u001b[49m)\n\u001b[0;32m      4\u001b[0m \u001b[38;5;28mprint\u001b[39m(metSuperficie[\u001b[38;5;124m'\u001b[39m\u001b[38;5;124mdatetime\u001b[39m\u001b[38;5;124m'\u001b[39m])\n\u001b[0;32m      6\u001b[0m \u001b[38;5;66;03m# Definindo a coluna do datetime\u001b[39;00m\n",
      "\u001b[1;31mTypeError\u001b[0m: list indices must be integers or slices, not list"
     ]
    }
   ],
   "source": [
    "# Criar uma coluna com Datetime dos dados\n",
    "# Criar uma coluna de data e hora combinando as colunas separadas\n",
    "metSuperficie['datetime'] = pd.to_datetime(metSuperficie[['year', 'month', 'day', 'hour']])\n",
    "print(metSuperficie['datetime'])\n",
    "\n",
    "# Definindo a coluna do datetime como índice da matriz\n",
    "..."
   ]
  },
  {
   "cell_type": "code",
   "execution_count": 12,
   "id": "46843f6c-8cb9-4d9a-8c3e-509c16b00c29",
   "metadata": {},
   "outputs": [
    {
     "ename": "TypeError",
     "evalue": "list indices must be integers or slices, not str",
     "output_type": "error",
     "traceback": [
      "\u001b[1;31m---------------------------------------------------------------------------\u001b[0m",
      "\u001b[1;31mTypeError\u001b[0m                                 Traceback (most recent call last)",
      "Cell \u001b[1;32mIn[12], line 5\u001b[0m\n\u001b[0;32m      2\u001b[0m \u001b[38;5;28;01mimport\u001b[39;00m \u001b[38;5;21;01mmatplotlib\u001b[39;00m\u001b[38;5;21;01m.\u001b[39;00m\u001b[38;5;21;01mpyplot\u001b[39;00m \u001b[38;5;28;01mas\u001b[39;00m \u001b[38;5;21;01mplt\u001b[39;00m\n\u001b[0;32m      4\u001b[0m fig, ax \u001b[38;5;241m=\u001b[39m plt\u001b[38;5;241m.\u001b[39msubplots(\u001b[38;5;241m4\u001b[39m, sharex \u001b[38;5;241m=\u001b[39m \u001b[38;5;28;01mTrue\u001b[39;00m)\n\u001b[1;32m----> 5\u001b[0m ax[\u001b[38;5;241m0\u001b[39m]\u001b[38;5;241m.\u001b[39mplot(\u001b[43mmetSuperficie\u001b[49m\u001b[43m[\u001b[49m\u001b[38;5;124;43m'\u001b[39;49m\u001b[38;5;124;43mdatetime\u001b[39;49m\u001b[38;5;124;43m'\u001b[39;49m\u001b[43m]\u001b[49m,metSuperficie[\u001b[38;5;124m'\u001b[39m\u001b[38;5;124mtemp\u001b[39m\u001b[38;5;124m'\u001b[39m], color \u001b[38;5;241m=\u001b[39m \u001b[38;5;124m'\u001b[39m\u001b[38;5;124mred\u001b[39m\u001b[38;5;124m'\u001b[39m) \n\u001b[0;32m      6\u001b[0m ax[\u001b[38;5;241m1\u001b[39m]\u001b[38;5;241m.\u001b[39mplot(metSuperficie[\u001b[38;5;124m'\u001b[39m\u001b[38;5;124mdatetime\u001b[39m\u001b[38;5;124m'\u001b[39m],metSuperficie[\u001b[38;5;124m'\u001b[39m\u001b[38;5;124mp\u001b[39m\u001b[38;5;124m'\u001b[39m], color \u001b[38;5;241m=\u001b[39m \u001b[38;5;124m'\u001b[39m\u001b[38;5;124morange\u001b[39m\u001b[38;5;124m'\u001b[39m) \n\u001b[0;32m      7\u001b[0m ax[\u001b[38;5;241m1\u001b[39m]\u001b[38;5;241m.\u001b[39mplot(metSuperficie[\u001b[38;5;124m'\u001b[39m\u001b[38;5;124mdatetime\u001b[39m\u001b[38;5;124m'\u001b[39m],metSuperficie[\u001b[38;5;124m'\u001b[39m\u001b[38;5;124mrelh\u001b[39m\u001b[38;5;124m'\u001b[39m], color \u001b[38;5;241m=\u001b[39m \u001b[38;5;124m'\u001b[39m\u001b[38;5;124myellow\u001b[39m\u001b[38;5;124m'\u001b[39m) \n",
      "\u001b[1;31mTypeError\u001b[0m: list indices must be integers or slices, not str"
     ]
    },
    {
     "data": {
      "image/png": "[encoded data removed]",
      "text/plain": [
       "<Figure size 640x480 with 4 Axes>"
      ]
     },
     "metadata": {},
     "output_type": "display_data"
    }
   ],
   "source": [
    "# Analisando os dados através de figuras\n",
    "import matplotlib.pyplot as plt\n",
    "\n",
    "fig, ax = plt.subplots(4, sharex = True)\n",
    "ax[0].plot(metSuperficie['datetime'],metSuperficie['temp'], color = 'red') \n",
    "ax[1].plot(metSuperficie['datetime'],metSuperficie['p'], color = 'orange') \n",
    "ax[1].plot(metSuperficie['datetime'],metSuperficie['relh'], color = 'yellow') \n",
    "ax[3].plot(metSuperficie['datetime'],metSuperficie['cco'], color = 'gray') \n",
    "ax[3].tick_params(axis='x', rotation=45)"
   ]
  },
  {
   "cell_type": "code",
   "execution_count": null,
   "id": "b0dd6909-063c-48b1-8e4f-4f17cc366828",
   "metadata": {},
   "outputs": [],
   "source": [
    "# Estastísticas dos dados \n",
    "media_mensal = "
   ]
  }
 ],
 "metadata": {
  "kernelspec": {
   "display_name": "Python 3 (ipykernel)",
   "language": "python",
   "name": "python3"
  },
  "language_info": {
   "codemirror_mode": {
    "name": "ipython",
    "version": 3
   },
   "file_extension": ".py",
   "mimetype": "text/x-python",
   "name": "python",
   "nbconvert_exporter": "python",
   "pygments_lexer": "ipython3",
   "version": "3.11.8"
  }
 },
 "nbformat": 4,
 "nbformat_minor": 5
}
