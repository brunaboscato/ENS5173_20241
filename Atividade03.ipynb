{
 "cells": [
  {
   "cell_type": "markdown",
   "id": "1f46be92-bb95-442d-ba4a-2244b834e981",
   "metadata": {},
   "source": [
    "# MODELAGEM DE DISPERSÃO\n",
    "\n",
    "Neste notebook vamos implementar um modelo de dispersão gaussiano."
   ]
  },
  {
   "cell_type": "code",
   "execution_count": 1,
   "id": "650f77f8-5c33-4698-9052-e01080550ad5",
   "metadata": {},
   "outputs": [],
   "source": [
    "# Criando uma função do modelo gaussiano\n",
    "import numpy as np\n",
    "def modeloGaussiano(qs,sigmaY,sigmaZ,u,y,z,H):\n",
    "    termo1 = qs/(2*np.pi*sigmaY*sigmaZ*u)\n",
    "    termo2 = np.exp((-y**2)/(2*sigmaY**2))\n",
    "    termo3 = np.exp((-(z-H)**2)/(2*sigmaZ**2)) + np.exp((-(z+H)**2)/(2*sigmaZ**2))\n",
    "    conc = termo1*termo2*termo3\n",
    "    conc = conc*10**6\n",
    "    return conc"
   ]
  },
  {
   "cell_type": "code",
   "execution_count": 3,
   "id": "3eb0468f-6663-43aa-a225-cd56bcf0d47a",
   "metadata": {},
   "outputs": [
    {
     "name": "stdout",
     "output_type": "stream",
     "text": [
      "A concentração estimada é = 86.2052564132534 [$\\mu$]g/m³\n"
     ]
    }
   ],
   "source": [
    "# Utilizando a função do modelo gaussiano\n",
    "qs = 100 # g/s\n",
    "sigmaY = 10 # m\n",
    "sigmaZ = 15 # m\n",
    "u = 10 # m/s\n",
    "y = 0 # estimando na direção do vento\n",
    "z = 1.5 # altura do nariz\n",
    "H = 50 # m\n",
    "\n",
    "# Chamando a função do modelo gaussiano\n",
    "conc = modeloGaussiano(qs,sigmaY,sigmaZ,u,y,z,H)\n",
    "\n",
    "print(\"A concentração estimada é = \" +str(conc) + ' [$\\mu$]g/m³')"
   ]
  },
  {
   "cell_type": "code",
   "execution_count": 9,
   "id": "f9415042-066c-4e27-901b-12e8dcaacb2f",
   "metadata": {},
   "outputs": [
    {
     "data": {
      "text/plain": [
       "<matplotlib.contour.QuadContourSet at 0x271b6aa1510>"
      ]
     },
     "execution_count": 9,
     "metadata": {},
     "output_type": "execute_result"
    },
    {
     "data": {
      "image/png": "[encoded data removed]",
      "text/plain": [
       "<Figure size 640x480 with 1 Axes>"
      ]
     },
     "metadata": {},
     "output_type": "display_data"
    }
   ],
   "source": [
    "# Criando domínio de modelagem\n",
    "x = np.linspace(-10000,10000,500)\n",
    "#print(x)\n",
    "y = np.linspace(-10000,10000,500)\n",
    "\n",
    "# Criando matrizes de x e y\n",
    "xx,yy = np.meshgrid(x,y)\n",
    "#print(xx.shape)\n",
    "\n",
    "# Utilizando a matriz de yy como input na função do modelo gaussiano\n",
    "conc = modeloGaussiano(qs,sigmaY,sigmaZ,u,yy,z,H)\n",
    "\n",
    "# Visualização dos resultados no espaço\n",
    "import matplotlib.pyplot as plt\n",
    "fig,ax = plt.subplots()\n",
    "ax.contourf(conc)"
   ]
  },
  {
   "cell_type": "code",
   "execution_count": null,
   "id": "78f647cc-5418-4389-9a68-a91d9e9184f9",
   "metadata": {},
   "outputs": [],
   "source": []
  }
 ],
 "metadata": {
  "kernelspec": {
   "display_name": "Python 3 (ipykernel)",
   "language": "python",
   "name": "python3"
  },
  "language_info": {
   "codemirror_mode": {
    "name": "ipython",
    "version": 3
   },
   "file_extension": ".py",
   "mimetype": "text/x-python",
   "name": "python",
   "nbconvert_exporter": "python",
   "pygments_lexer": "ipython3",
   "version": "3.11.8"
  }
 },
 "nbformat": 4,
 "nbformat_minor": 5
}
