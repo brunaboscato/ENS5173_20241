{
 "cells": [
  {
   "cell_type": "markdown",
   "id": "a001539e-9ff8-4552-894b-aff114bac659",
   "metadata": {},
   "source": [
    "# Aula 03/04/2024 - Comandos básicos no Python\n",
    "\n",
    "Nesta aula aprenderemos a importar pacotes e os tipos de variáveis\\\n",
    "Desenvolvedor: Bruna Boscato Toscani"
   ]
  },
  {
   "cell_type": "markdown",
   "id": "5be666d4-9976-4717-b31d-60248fc03824",
   "metadata": {},
   "source": [
    "## Tipos de variáveis"
   ]
  },
  {
   "cell_type": "markdown",
   "id": "8b1b7b48-da3c-4d45-bad2-cb57d50e93d8",
   "metadata": {},
   "source": [
    "Print é mostre na tela\\\n",
    "Str é texto\\\n",
    "ctrl + enter é play"
   ]
  },
  {
   "cell_type": "code",
   "execution_count": 6,
   "id": "20c81c0c-74c0-46fc-8e99-c2e5c8d0efc9",
   "metadata": {},
   "outputs": [
    {
     "name": "stdout",
     "output_type": "stream",
     "text": [
      "a=1.0\n",
      "<class 'float'>\n"
     ]
    }
   ],
   "source": [
    "# Criando variáveis inteiras \n",
    "a = 1.0\n",
    "print('a='+str(a))\n",
    "print(type(a))"
   ]
  },
  {
   "cell_type": "code",
   "execution_count": 8,
   "id": "bcfc362b-4f4b-4bf4-ab0d-5d2974cfd971",
   "metadata": {},
   "outputs": [
    {
     "name": "stdout",
     "output_type": "stream",
     "text": [
      " Salve o  corinthians \n",
      "<class 'str'>\n"
     ]
    }
   ],
   "source": [
    "# Criando variáveis string\n",
    "b=' Salve o '\n",
    "c=' corinthians '\n",
    "print(b+c)\n",
    "print(type(b))"
   ]
  },
  {
   "cell_type": "code",
   "execution_count": 9,
   "id": "a48b9937-e5da-4a03-b9b8-f71031c21903",
   "metadata": {},
   "outputs": [
    {
     "name": "stdout",
     "output_type": "stream",
     "text": [
      "666.666\n",
      "<class 'float'>\n"
     ]
    }
   ],
   "source": [
    "# Criando variáveis float/double precision\n",
    "d=666.666\n",
    "print(d)\n",
    "print(type(d))"
   ]
  }
 ],
 "metadata": {
  "kernelspec": {
   "display_name": "Python 3 (ipykernel)",
   "language": "python",
   "name": "python3"
  },
  "language_info": {
   "codemirror_mode": {
    "name": "ipython",
    "version": 3
   },
   "file_extension": ".py",
   "mimetype": "text/x-python",
   "name": "python",
   "nbconvert_exporter": "python",
   "pygments_lexer": "ipython3",
   "version": "3.11.8"
  }
 },
 "nbformat": 4,
 "nbformat_minor": 5
}
