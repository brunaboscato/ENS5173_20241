{
 "cells": [
  {
   "cell_type": "code",
   "execution_count": 1,
   "id": "32a3ecfe-c781-4d9b-abe6-204c65a60b9b",
   "metadata": {},
   "outputs": [
    {
     "name": "stdout",
     "output_type": "stream",
     "text": [
      "Guilherme gente fina\n"
     ]
    }
   ],
   "source": [
    "# Tipos de variáveis - string\n",
    "a = 'Guilherme '\n",
    "b = a + 'gente fina'\n",
    "print(b)"
   ]
  },
  {
   "cell_type": "code",
   "execution_count": 2,
   "id": "d686a2b5-46dd-4dd3-977e-5fa7ef89e32e",
   "metadata": {},
   "outputs": [
    {
     "name": "stdout",
     "output_type": "stream",
     "text": [
      "11\n"
     ]
    },
    {
     "data": {
      "text/plain": [
       "int"
      ]
     },
     "execution_count": 2,
     "metadata": {},
     "output_type": "execute_result"
    }
   ],
   "source": [
    "# Tipos de variáveis - inteira\n",
    "c = 1\n",
    "d = c + 10\n",
    "print(d)\n",
    "type(d)"
   ]
  },
  {
   "cell_type": "code",
   "execution_count": 3,
   "id": "20428c8f-81fa-412e-ad60-2b4251513b2b",
   "metadata": {},
   "outputs": [
    {
     "name": "stdout",
     "output_type": "stream",
     "text": [
      "valor de g = 21.0 e o valor de h = 110.25\n",
      "<class 'float'>\n",
      "valor de f = 10 do tipo = <class 'int'>\n",
      "valor de f = 10.0 do tipo = <class 'float'>\n"
     ]
    }
   ],
   "source": [
    "# Tipos de variáveis - float\n",
    "f = 10.5\n",
    "g = f*2\n",
    "h = f**2\n",
    "print('valor de g = '+str(g)+ ' e o valor de h = '+str(h))\n",
    "print(type(h))\n",
    "f = int(f)\n",
    "print('valor de f = ' + str(f) +' do tipo = ' + str(type(f)))\n",
    "f = float(f)\n",
    "print('valor de f = ' + str(f) +' do tipo = ' + str(type(f)))"
   ]
  },
  {
   "cell_type": "code",
   "execution_count": 4,
   "id": "371c9962-02c6-48c9-8bda-3f0e0e66694a",
   "metadata": {},
   "outputs": [
    {
     "name": "stdout",
     "output_type": "stream",
     "text": [
      "['Guilherme', 'Flávia', 'Lucas']\n",
      "[3, 6, 6]\n",
      "<class 'list'>\n"
     ]
    }
   ],
   "source": [
    "# Exemplo dicionário\n",
    "dicionario = {\n",
    "    'alunos':['Guilherme','Flávia','Lucas'],\n",
    "    'notas':[3,6,6]\n",
    "}\n",
    "print(dicionario['alunos'])\n",
    "print(dicionario['notas'])\n",
    "print(type(dicionario['notas']))"
   ]
  },
  {
   "cell_type": "code",
   "execution_count": 5,
   "id": "fa6df1f1-60ca-4008-8474-1a60470cca3d",
   "metadata": {},
   "outputs": [
    {
     "name": "stdout",
     "output_type": "stream",
     "text": [
      "0 Guilherme nota = 3\n",
      "1 Flávia nota = 6\n",
      "2 Lucas nota = 6\n",
      " \n",
      "0 Guilherme nota = 3\n",
      "1 Flávia nota = 6\n",
      "2 Lucas nota = 6\n"
     ]
    }
   ],
   "source": [
    "# Treinando loop\n",
    "for ii, aluno in enumerate(dicionario['alunos']):\n",
    "    print(str(ii) + ' ' + aluno + ' nota = ' + str(dicionario['notas'][ii]))\n",
    "print(' ')\n",
    "for ii in range(0,len(dicionario['alunos'])):\n",
    "    print(str(ii) + ' ' + str(dicionario['alunos'][ii]) + ' nota = ' + str(dicionario['notas'][ii]))"
   ]
  },
  {
   "cell_type": "code",
   "execution_count": 6,
   "id": "69a75512-83b5-4444-babc-72a18a7f1e2c",
   "metadata": {},
   "outputs": [
    {
     "name": "stdout",
     "output_type": "stream",
     "text": [
      "0 Guilherme nota = 10.0\n",
      "1 Flávia nota = 6\n",
      "2 Lucas nota = 6\n",
      " \n",
      "0 Guilherme nota = 3\n",
      "1 Flávia nota = 6\n",
      "2 Lucas nota = 10.0\n"
     ]
    }
   ],
   "source": [
    "# Treinando loop com condição\n",
    "for ii, aluno in enumerate(dicionario['alunos']):\n",
    "    if aluno=='Guilherme':\n",
    "        print(str(ii) + ' ' + aluno + ' nota = 10.0')  \n",
    "    else:\n",
    "        print(str(ii) + ' ' + aluno + ' nota = ' + str(dicionario['notas'][ii]))\n",
    "\n",
    "print(' ')\n",
    "\n",
    "for ii, aluno in enumerate(dicionario['alunos']):\n",
    "    if ii==2:\n",
    "        print(str(ii) + ' ' + aluno + ' nota = 10.0')  \n",
    "    else:\n",
    "        print(str(ii) + ' ' + aluno + ' nota = ' + str(dicionario['notas'][ii]))"
   ]
  },
  {
   "cell_type": "code",
   "execution_count": 7,
   "id": "2a49e35a-9126-41dc-bb67-cd8d4342ee51",
   "metadata": {},
   "outputs": [
    {
     "name": "stdout",
     "output_type": "stream",
     "text": [
      "False\n",
      "True\n",
      "False\n",
      "True\n",
      "True\n",
      "True\n",
      "False\n",
      "<class 'bool'>\n"
     ]
    }
   ],
   "source": [
    "# Operações lógicas\n",
    "a = 1\n",
    "b = 3\n",
    "c = 1\n",
    "print(a==b) # igual a\n",
    "print(a==c)\n",
    "print(a>b) # maior que \n",
    "print(a<b) # menor que\n",
    "print(a>=c) # maior igual que\n",
    "print(a!=b) # diferente de\n",
    "print(a!=c)\n",
    "\n",
    "opTF = a!=c # recebe um teste lógico\n",
    "print(type(opTF))\n",
    "\n",
    "opT = True\n",
    "opF = False"
   ]
  },
  {
   "cell_type": "code",
   "execution_count": 8,
   "id": "8c54dcc5-0818-450e-be50-b8f010c7ecbc",
   "metadata": {},
   "outputs": [
    {
     "name": "stdout",
     "output_type": "stream",
     "text": [
      "0 Guilherme nota = 9.5\n",
      "1 Flávia nota = 6\n",
      "2 Lucas nota = 6\n"
     ]
    }
   ],
   "source": [
    "dicionario = {\n",
    "    'alunos':['Guilherme','Flávia','Lucas'],\n",
    "    'notas':[9.5,6,6]\n",
    "}\n",
    "# Treinando loop com condição\n",
    "for ii, aluno in enumerate(dicionario['alunos']):\n",
    "    if (aluno=='Guilherme') and (dicionario['notas'][ii]<=9):\n",
    "        print(str(ii) + ' ' + aluno + ' nota = 10.0')  \n",
    "    else:\n",
    "        print(str(ii) + ' ' + aluno + ' nota = ' + str(dicionario['notas'][ii]))"
   ]
  },
  {
   "cell_type": "code",
   "execution_count": null,
   "id": "f101cc19-082e-4285-b2b3-f5c701041d19",
   "metadata": {},
   "outputs": [],
   "source": []
  }
 ],
 "metadata": {
  "kernelspec": {
   "display_name": "Python 3 (ipykernel)",
   "language": "python",
   "name": "python3"
  },
  "language_info": {
   "codemirror_mode": {
    "name": "ipython",
    "version": 3
   },
   "file_extension": ".py",
   "mimetype": "text/x-python",
   "name": "python",
   "nbconvert_exporter": "python",
   "pygments_lexer": "ipython3",
   "version": "3.11.8"
  }
 },
 "nbformat": 4,
 "nbformat_minor": 5
}
