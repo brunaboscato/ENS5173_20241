{
 "cells": [
  {
   "cell_type": "code",
   "execution_count": 2,
   "id": "32a3ecfe-c781-4d9b-abe6-204c65a60b9b",
   "metadata": {},
   "outputs": [
    {
     "name": "stdout",
     "output_type": "stream",
     "text": [
      "Guilherme gente fina\n"
     ]
    }
   ],
   "source": [
    "# Tipos de variáveis - string\n",
    "a = 'Guilherme '\n",
    "b = a + 'gente fina'\n",
    "print(b)"
   ]
  },
  {
   "cell_type": "code",
   "execution_count": 3,
   "id": "d686a2b5-46dd-4dd3-977e-5fa7ef89e32e",
   "metadata": {},
   "outputs": [
    {
     "name": "stdout",
     "output_type": "stream",
     "text": [
      "11\n"
     ]
    },
    {
     "data": {
      "text/plain": [
       "int"
      ]
     },
     "execution_count": 3,
     "metadata": {},
     "output_type": "execute_result"
    }
   ],
   "source": [
    "# Tipos de variáveis - inteira\n",
    "c = 1\n",
    "d = c + 10\n",
    "print(d)\n",
    "type(d)"
   ]
  },
  {
   "cell_type": "code",
   "execution_count": 4,
   "id": "20428c8f-81fa-412e-ad60-2b4251513b2b",
   "metadata": {},
   "outputs": [
    {
     "name": "stdout",
     "output_type": "stream",
     "text": [
      "valor de g = 21.0 e o valor de h = 110.25\n",
      "<class 'float'>\n",
      "valor de f = 10 do tipo = <class 'int'>\n",
      "valor de f = 10.0 do tipo = <class 'float'>\n"
     ]
    }
   ],
   "source": [
    "# Tipos de variáveis - float\n",
    "f = 10.5\n",
    "g = f*2\n",
    "h = f**2\n",
    "print('valor de g = '+str(g)+ ' e o valor de h = '+str(h))\n",
    "print(type(h))\n",
    "f = int(f)\n",
    "print('valor de f = ' + str(f) +' do tipo = ' + str(type(f)))\n",
    "f = float(f)\n",
    "print('valor de f = ' + str(f) +' do tipo = ' + str(type(f)))"
   ]
  },
  {
   "cell_type": "code",
   "execution_count": 5,
   "id": "371c9962-02c6-48c9-8bda-3f0e0e66694a",
   "metadata": {},
   "outputs": [
    {
     "name": "stdout",
     "output_type": "stream",
     "text": [
      "['Guilherme', 'Flávia', 'Lucas']\n",
      "[3, 6, 6]\n",
      "<class 'list'>\n"
     ]
    }
   ],
   "source": [
    "# Exemplo dicionário\n",
    "dicionario = {\n",
    "    'alunos':['Guilherme','Flávia','Lucas'],\n",
    "    'notas':[3,6,6]\n",
    "}\n",
    "print(dicionario['alunos'])\n",
    "print(dicionario['notas'])\n",
    "print(type(dicionario['notas']))"
   ]
  },
  {
   "cell_type": "code",
   "execution_count": 6,
   "id": "fa6df1f1-60ca-4008-8474-1a60470cca3d",
   "metadata": {},
   "outputs": [
    {
     "name": "stdout",
     "output_type": "stream",
     "text": [
      "0 Guilherme nota = 3\n",
      "1 Flávia nota = 6\n",
      "2 Lucas nota = 6\n",
      " \n",
      "0 Guilherme nota = 3\n",
      "1 Flávia nota = 6\n",
      "2 Lucas nota = 6\n"
     ]
    }
   ],
   "source": [
    "# Treinando loop\n",
    "for ii, aluno in enumerate(dicionario['alunos']):\n",
    "    print(str(ii) + ' ' + aluno + ' nota = ' + str(dicionario['notas'][ii]))\n",
    "print(' ')\n",
    "for ii in range(0,len(dicionario['alunos'])):\n",
    "    print(str(ii) + ' ' + str(dicionario['alunos'][ii]) + ' nota = ' + str(dicionario['notas'][ii]))"
   ]
  },
  {
   "cell_type": "code",
   "execution_count": 7,
   "id": "69a75512-83b5-4444-babc-72a18a7f1e2c",
   "metadata": {},
   "outputs": [
    {
     "name": "stdout",
     "output_type": "stream",
     "text": [
      "0 Guilherme nota = 10.0\n",
      "1 Flávia nota = 6\n",
      "2 Lucas nota = 6\n",
      " \n",
      "0 Guilherme nota = 3\n",
      "1 Flávia nota = 6\n",
      "2 Lucas nota = 10.0\n"
     ]
    }
   ],
   "source": [
    "# Treinando loop com condição\n",
    "for ii, aluno in enumerate(dicionario['alunos']):\n",
    "    if aluno=='Guilherme':\n",
    "        print(str(ii) + ' ' + aluno + ' nota = 10.0')  \n",
    "    else:\n",
    "        print(str(ii) + ' ' + aluno + ' nota = ' + str(dicionario['notas'][ii]))\n",
    "\n",
    "print(' ')\n",
    "\n",
    "for ii, aluno in enumerate(dicionario['alunos']):\n",
    "    if ii==2:\n",
    "        print(str(ii) + ' ' + aluno + ' nota = 10.0')  \n",
    "    else:\n",
    "        print(str(ii) + ' ' + aluno + ' nota = ' + str(dicionario['notas'][ii]))"
   ]
  },
  {
   "cell_type": "code",
   "execution_count": 8,
   "id": "2a49e35a-9126-41dc-bb67-cd8d4342ee51",
   "metadata": {},
   "outputs": [
    {
     "name": "stdout",
     "output_type": "stream",
     "text": [
      "False\n",
      "True\n",
      "False\n",
      "True\n",
      "True\n",
      "True\n",
      "False\n",
      "<class 'bool'>\n"
     ]
    }
   ],
   "source": [
    "# Operações lógicas\n",
    "a = 1\n",
    "b = 3\n",
    "c = 1\n",
    "print(a==b) # igual a\n",
    "print(a==c)\n",
    "print(a>b) # maior que \n",
    "print(a<b) # menor que\n",
    "print(a>=c) # maior igual que\n",
    "print(a!=b) # diferente de\n",
    "print(a!=c)\n",
    "\n",
    "opTF = a!=c # recebe um teste lógico\n",
    "print(type(opTF))\n",
    "\n",
    "opT = True\n",
    "opF = False"
   ]
  },
  {
   "cell_type": "code",
   "execution_count": 9,
   "id": "8c54dcc5-0818-450e-be50-b8f010c7ecbc",
   "metadata": {},
   "outputs": [
    {
     "name": "stdout",
     "output_type": "stream",
     "text": [
      "0 Guilherme nota = 9.5\n",
      "1 Flávia nota = 6\n",
      "2 Lucas nota = 6\n"
     ]
    }
   ],
   "source": [
    "dicionario = {\n",
    "    'alunos':['Guilherme','Flávia','Lucas'],\n",
    "    'notas':[9.5,6,6]\n",
    "}\n",
    "# Treinando loop com condição\n",
    "for ii, aluno in enumerate(dicionario['alunos']):\n",
    "    if (aluno=='Guilherme') and (dicionario['notas'][ii]<=9):\n",
    "        print(str(ii) + ' ' + aluno + ' nota = 10.0')  \n",
    "    else:\n",
    "        print(str(ii) + ' ' + aluno + ' nota = ' + str(dicionario['notas'][ii]))"
   ]
  },
  {
   "cell_type": "code",
   "execution_count": 11,
   "id": "f101cc19-082e-4285-b2b3-f5c701041d19",
   "metadata": {},
   "outputs": [
    {
     "name": "stdout",
     "output_type": "stream",
     "text": [
      "['Guilherme' 'Flávia' 'Lucas']\n",
      "<class 'numpy.ndarray'>\n",
      " \n",
      "[False False  True]\n",
      "(array([2], dtype=int64),)\n",
      " \n"
     ]
    },
    {
     "name": "stderr",
     "output_type": "stream",
     "text": [
      "C:\\Users\\bruna\\AppData\\Local\\Temp\\ipykernel_2924\\730046215.py:15: DeprecationWarning: Conversion of an array with ndim > 0 to a scalar is deprecated, and will error in future. Ensure you extract a single element from your array before performing this operation. (Deprecated NumPy 1.25.)\n",
      "  dicionario['notas'][int(np.where(mat2)[0])] = 9.5\n"
     ]
    }
   ],
   "source": [
    "# Treinando numpy\n",
    "import numpy as np\n",
    "\n",
    "# Convertendo para numpy\n",
    "mat = np.array(dicionario['alunos'])\n",
    "print(mat)\n",
    "print(type(mat))\n",
    "print(' ')\n",
    "mat2 = np.array(mat=='Lucas')\n",
    "print(mat2)\n",
    "\n",
    "# Local da matriz com valor verdadeiro\n",
    "print(np.where(mat2))\n",
    "print(' ')\n",
    "dicionario['notas'][int(np.where(mat2)[0])] = 9.5"
   ]
  },
  {
   "cell_type": "code",
   "execution_count": 12,
   "id": "b03f4118-feae-46ac-80df-36b6c2682b6b",
   "metadata": {},
   "outputs": [
    {
     "name": "stdout",
     "output_type": "stream",
     "text": [
      "[6.36407141e-01 8.17951136e-01 6.56834884e-01 8.44098935e-01\n",
      " 1.10328870e-01 4.08316126e-01 1.11676189e-01 9.90341000e-01\n",
      " 1.79912110e-01 7.65683317e-01 9.82868525e-01 3.08962506e-01\n",
      " 6.26425955e-02 9.17833654e-01 8.23269664e-01 6.14305116e-01\n",
      " 3.39533236e-01 9.45798444e-01 5.16674652e-01 1.92402175e-01\n",
      " 5.45917114e-02 2.71703009e-01 9.99416543e-01 4.42280662e-01\n",
      " 3.35129150e-01 8.00635207e-01 5.44479750e-01 1.68811165e-01\n",
      " 5.21357122e-01 4.08787035e-01 5.71856453e-01 1.12153204e-02\n",
      " 6.94140827e-01 6.43353054e-01 7.16213303e-01 2.04287560e-02\n",
      " 5.29693206e-01 7.36993510e-01 1.38637927e-01 8.89656456e-01\n",
      " 3.02392742e-02 4.18017741e-01 6.17090459e-01 8.77276569e-01\n",
      " 5.40189449e-01 6.19081817e-01 3.02239354e-01 7.65121870e-01\n",
      " 9.55184617e-01 7.87441455e-01 3.03777928e-01 2.96223946e-01\n",
      " 3.73334921e-01 2.38134170e-01 6.43313189e-01 5.94273257e-01\n",
      " 9.20610125e-01 1.82474189e-01 6.70968709e-01 5.36513170e-01\n",
      " 6.26930220e-01 8.86856500e-01 5.06095135e-01 5.08380623e-01\n",
      " 6.75576703e-01 6.34437297e-02 5.50614822e-01 2.25666072e-01\n",
      " 2.73131436e-01 8.08412693e-01 3.28098442e-01 8.51706209e-01\n",
      " 7.15821563e-03 4.29886624e-01 2.54910835e-01 4.86478810e-01\n",
      " 8.89960404e-01 1.57017513e-01 6.89093405e-01 8.49545376e-01\n",
      " 5.57884708e-01 9.89968698e-01 2.08125264e-01 7.37934859e-01\n",
      " 6.54000091e-01 3.30762845e-01 7.49271546e-02 3.49030506e-01\n",
      " 3.99583488e-01 3.04531860e-01 2.38678029e-01 2.37933836e-01\n",
      " 5.49373139e-02 5.17249981e-04 2.42722316e-02 5.76018062e-01\n",
      " 3.81001036e-01 2.53545681e-01 1.97200393e-01 7.01211207e-01]\n",
      "[5.94309776e-01 7.29746517e-01 6.10613368e-01 7.47372743e-01\n",
      " 1.10105177e-01 3.97064448e-01 1.11444204e-01 8.36213033e-01\n",
      " 1.78943103e-01 6.93029770e-01 8.32091785e-01 3.04070432e-01\n",
      " 6.26016343e-02 7.94287338e-01 7.33372552e-01 5.76390820e-01\n",
      " 3.33047012e-01 8.10964358e-01 4.93991595e-01 1.91217294e-01\n",
      " 5.45645993e-02 2.68372359e-01 8.41155599e-01 4.28001788e-01\n",
      " 3.28891138e-01 7.17798499e-01 5.17973140e-01 1.68010532e-01\n",
      " 4.98057416e-01 3.97496600e-01 5.41194068e-01 1.12150853e-02\n",
      " 6.39725312e-01 5.99881549e-01 6.56533091e-01 2.04273351e-02\n",
      " 5.05268613e-01 6.72064669e-01 1.38194239e-01 7.76855471e-01\n",
      " 3.02346659e-02 4.05949674e-01 5.78664692e-01 7.69000785e-01\n",
      " 5.14298475e-01 5.80287626e-01 2.97658801e-01 6.92624908e-01\n",
      " 8.16420363e-01 7.08550129e-01 2.99127281e-01 2.91910706e-01\n",
      " 3.64722653e-01 2.35889863e-01 5.99849654e-01 5.59906756e-01\n",
      " 7.95971098e-01 1.81463238e-01 6.21744991e-01 5.11142188e-01\n",
      " 5.86661519e-01 7.75089355e-01 4.84765584e-01 4.86763305e-01\n",
      " 6.25347449e-01 6.34011769e-02 5.23211281e-01 2.23755596e-01\n",
      " 2.69748111e-01 7.23191817e-01 3.22243489e-01 7.52405380e-01\n",
      " 7.15815450e-03 4.16767745e-01 2.52159126e-01 4.67516115e-01\n",
      " 7.77046825e-01 1.56373110e-01 6.35837713e-01 7.50980283e-01\n",
      " 5.29392819e-01 8.36008803e-01 2.06625985e-01 6.72761433e-01\n",
      " 6.08365964e-01 3.24764618e-01 7.48570664e-02 3.41986931e-01\n",
      " 3.89034676e-01 2.99846608e-01 2.36418338e-01 2.35695177e-01\n",
      " 5.49096836e-02 5.17249958e-04 2.42698484e-02 5.44688858e-01\n",
      " 3.71849910e-01 2.50837851e-01 1.95924754e-01 6.45143597e-01]\n"
     ]
    }
   ],
   "source": [
    "# Matriz numpy\n",
    "\n",
    "vec = np.random.rand(100)\n",
    "print(vec)\n",
    "vec2 = np.sin(vec)\n",
    "print(vec2)"
   ]
  },
  {
   "cell_type": "code",
   "execution_count": 13,
   "id": "91937208-2ada-4318-a892-62dba17f4383",
   "metadata": {},
   "outputs": [
    {
     "name": "stdout",
     "output_type": "stream",
     "text": [
      "(100,)\n",
      "2024-01-01 00:00:00\n",
      "2024-01-02 00:00:00\n",
      "2024-01-03 00:00:00\n",
      "2024-01-04 00:00:00\n",
      "2024-01-05 00:00:00\n",
      "2024-01-06 00:00:00\n",
      "2024-01-07 00:00:00\n",
      "2024-01-08 00:00:00\n",
      "2024-01-09 00:00:00\n",
      "2024-01-10 00:00:00\n",
      "2024-01-11 00:00:00\n",
      "2024-01-12 00:00:00\n",
      "2024-01-13 00:00:00\n",
      "2024-01-14 00:00:00\n",
      "2024-01-15 00:00:00\n",
      "2024-01-16 00:00:00\n",
      "2024-01-17 00:00:00\n",
      "2024-01-18 00:00:00\n",
      "2024-01-19 00:00:00\n",
      "2024-01-20 00:00:00\n",
      "2024-01-21 00:00:00\n",
      "2024-01-22 00:00:00\n",
      "2024-01-23 00:00:00\n",
      "2024-01-24 00:00:00\n",
      "2024-01-25 00:00:00\n",
      "2024-01-26 00:00:00\n",
      "2024-01-27 00:00:00\n",
      "2024-01-28 00:00:00\n",
      "2024-01-29 00:00:00\n",
      "2024-01-30 00:00:00\n",
      "2024-01-31 00:00:00\n",
      "2024-02-01 00:00:00\n",
      "2024-02-02 00:00:00\n",
      "2024-02-03 00:00:00\n",
      "2024-02-04 00:00:00\n",
      "2024-02-05 00:00:00\n",
      "2024-02-06 00:00:00\n",
      "2024-02-07 00:00:00\n",
      "2024-02-08 00:00:00\n",
      "2024-02-09 00:00:00\n",
      "2024-02-10 00:00:00\n",
      "2024-02-11 00:00:00\n",
      "2024-02-12 00:00:00\n",
      "2024-02-13 00:00:00\n",
      "2024-02-14 00:00:00\n",
      "2024-02-15 00:00:00\n",
      "2024-02-16 00:00:00\n",
      "2024-02-17 00:00:00\n",
      "2024-02-18 00:00:00\n",
      "2024-02-19 00:00:00\n",
      "2024-02-20 00:00:00\n",
      "2024-02-21 00:00:00\n",
      "2024-02-22 00:00:00\n",
      "2024-02-23 00:00:00\n",
      "2024-02-24 00:00:00\n",
      "2024-02-25 00:00:00\n",
      "2024-02-26 00:00:00\n",
      "2024-02-27 00:00:00\n",
      "2024-02-28 00:00:00\n",
      "2024-02-29 00:00:00\n",
      "2024-03-01 00:00:00\n",
      "2024-03-02 00:00:00\n",
      "2024-03-03 00:00:00\n",
      "2024-03-04 00:00:00\n",
      "2024-03-05 00:00:00\n",
      "2024-03-06 00:00:00\n",
      "2024-03-07 00:00:00\n",
      "2024-03-08 00:00:00\n",
      "2024-03-09 00:00:00\n",
      "2024-03-10 00:00:00\n",
      "2024-03-11 00:00:00\n",
      "2024-03-12 00:00:00\n",
      "2024-03-13 00:00:00\n",
      "2024-03-14 00:00:00\n",
      "2024-03-15 00:00:00\n",
      "2024-03-16 00:00:00\n",
      "2024-03-17 00:00:00\n",
      "2024-03-18 00:00:00\n",
      "2024-03-19 00:00:00\n",
      "2024-03-20 00:00:00\n",
      "2024-03-21 00:00:00\n",
      "2024-03-22 00:00:00\n",
      "2024-03-23 00:00:00\n",
      "2024-03-24 00:00:00\n",
      "2024-03-25 00:00:00\n",
      "2024-03-26 00:00:00\n",
      "2024-03-27 00:00:00\n",
      "2024-03-28 00:00:00\n",
      "2024-03-29 00:00:00\n",
      "2024-03-30 00:00:00\n",
      "2024-03-31 00:00:00\n",
      "2024-04-01 00:00:00\n",
      "2024-04-02 00:00:00\n",
      "2024-04-03 00:00:00\n",
      "2024-04-04 00:00:00\n",
      "2024-04-05 00:00:00\n",
      "2024-04-06 00:00:00\n",
      "2024-04-07 00:00:00\n",
      "2024-04-08 00:00:00\n",
      "2024-04-09 00:00:00\n"
     ]
    }
   ],
   "source": [
    "# Datetime \n",
    "from datetime import datetime, timedelta\n",
    "\n",
    "# Data inicial\n",
    "start_date = datetime(2024, 1, 1)  # ano, mês, dia\n",
    "\n",
    "# Lista para armazenar as datas\n",
    "date_vector = []\n",
    "\n",
    "# Gerar datas para uma semana\n",
    "print(vec.shape)\n",
    "for i in range(0,vec.shape[0]):\n",
    "    date_vector.append(start_date + timedelta(days=i))\n",
    "\n",
    "# Exibir as datas\n",
    "for date in date_vector:\n",
    "    print(date)"
   ]
  },
  {
   "cell_type": "code",
   "execution_count": 14,
   "id": "5c07960a-9bfa-4c92-9dc9-ed1755ef1369",
   "metadata": {},
   "outputs": [
    {
     "name": "stdout",
     "output_type": "stream",
     "text": [
      "        datas       vec      vec2\n",
      "0  2024-01-01  0.636407  0.594310\n",
      "1  2024-01-02  0.817951  0.729747\n",
      "2  2024-01-03  0.656835  0.610613\n",
      "3  2024-01-04  0.844099  0.747373\n",
      "4  2024-01-05  0.110329  0.110105\n",
      "..        ...       ...       ...\n",
      "95 2024-04-05  0.576018  0.544689\n",
      "96 2024-04-06  0.381001  0.371850\n",
      "97 2024-04-07  0.253546  0.250838\n",
      "98 2024-04-08  0.197200  0.195925\n",
      "99 2024-04-09  0.701211  0.645144\n",
      "\n",
      "[100 rows x 3 columns]\n"
     ]
    }
   ],
   "source": [
    "# Criando dataframe e salvando\n",
    "import pandas as pd\n",
    "\n",
    "df = pd.DataFrame()\n",
    "df['datas'] = date_vector\n",
    "df['vec'] = vec\n",
    "df['vec2'] = vec2\n",
    "print(df)\n",
    "\n",
    "# Salvando em uma pasta\n",
    "pasta = r\"C:\\Users\\bruna\\OneDrive\\Documentos\\UFSC\\Controle de Poluicao Atmosferica\\ENS5173_20241\\tabelas\"\n",
    "df.to_csv(pasta+'/planilha.csv')"
   ]
  },
  {
   "cell_type": "code",
   "execution_count": null,
   "id": "c6d2530d-e6be-4f14-9921-1312d9404fb4",
   "metadata": {},
   "outputs": [],
   "source": []
  }
 ],
 "metadata": {
  "kernelspec": {
   "display_name": "Python 3 (ipykernel)",
   "language": "python",
   "name": "python3"
  },
  "language_info": {
   "codemirror_mode": {
    "name": "ipython",
    "version": 3
   },
   "file_extension": ".py",
   "mimetype": "text/x-python",
   "name": "python",
   "nbconvert_exporter": "python",
   "pygments_lexer": "ipython3",
   "version": "3.11.8"
  }
 },
 "nbformat": 4,
 "nbformat_minor": 5
}
